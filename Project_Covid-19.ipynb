{
 "cells": [
  {
   "cell_type": "markdown",
   "id": "a7f640b0",
   "metadata": {},
   "source": [
    "# 1. 라이브러리 불러오기"
   ]
  },
  {
   "cell_type": "code",
   "execution_count": 1,
   "id": "c119b435",
   "metadata": {},
   "outputs": [
    {
     "name": "stdout",
     "output_type": "stream",
     "text": [
      "Requirement already satisfied: torch in c:\\users\\jkkim\\appdata\\local\\programs\\python\\python37\\lib\\site-packages (1.13.1)\n",
      "Requirement already satisfied: typing-extensions in c:\\users\\jkkim\\appdata\\local\\programs\\python\\python37\\lib\\site-packages (from torch) (4.5.0)\n"
     ]
    }
   ],
   "source": [
    "!pip install torch"
   ]
  },
  {
   "cell_type": "code",
   "execution_count": 2,
   "id": "4bacc487",
   "metadata": {},
   "outputs": [
    {
     "name": "stdout",
     "output_type": "stream",
     "text": [
      "Requirement already satisfied: torchvision in c:\\users\\jkkim\\appdata\\local\\programs\\python\\python37\\lib\\site-packages (0.14.1)\n",
      "Requirement already satisfied: typing-extensions in c:\\users\\jkkim\\appdata\\local\\programs\\python\\python37\\lib\\site-packages (from torchvision) (4.5.0)\n",
      "Requirement already satisfied: numpy in c:\\users\\jkkim\\appdata\\local\\programs\\python\\python37\\lib\\site-packages (from torchvision) (1.21.6)\n",
      "Requirement already satisfied: requests in c:\\users\\jkkim\\appdata\\local\\programs\\python\\python37\\lib\\site-packages (from torchvision) (2.28.2)\n",
      "Requirement already satisfied: torch==1.13.1 in c:\\users\\jkkim\\appdata\\local\\programs\\python\\python37\\lib\\site-packages (from torchvision) (1.13.1)\n",
      "Requirement already satisfied: pillow!=8.3.*,>=5.3.0 in c:\\users\\jkkim\\appdata\\local\\programs\\python\\python37\\lib\\site-packages (from torchvision) (9.4.0)\n",
      "Requirement already satisfied: charset-normalizer<4,>=2 in c:\\users\\jkkim\\appdata\\local\\programs\\python\\python37\\lib\\site-packages (from requests->torchvision) (3.1.0)\n",
      "Requirement already satisfied: idna<4,>=2.5 in c:\\users\\jkkim\\appdata\\local\\programs\\python\\python37\\lib\\site-packages (from requests->torchvision) (3.4)\n",
      "Requirement already satisfied: urllib3<1.27,>=1.21.1 in c:\\users\\jkkim\\appdata\\local\\programs\\python\\python37\\lib\\site-packages (from requests->torchvision) (1.26.15)\n",
      "Requirement already satisfied: certifi>=2017.4.17 in c:\\users\\jkkim\\appdata\\local\\programs\\python\\python37\\lib\\site-packages (from requests->torchvision) (2022.12.7)\n"
     ]
    }
   ],
   "source": [
    "!pip install torchvision"
   ]
  },
  {
   "cell_type": "code",
   "execution_count": 3,
   "id": "7fccb202",
   "metadata": {},
   "outputs": [
    {
     "name": "stdout",
     "output_type": "stream",
     "text": [
      "Requirement already satisfied: ipywidgets in c:\\users\\jkkim\\appdata\\local\\programs\\python\\python37\\lib\\site-packages (8.0.4)\n",
      "Requirement already satisfied: ipykernel>=4.5.1 in c:\\users\\jkkim\\appdata\\local\\programs\\python\\python37\\lib\\site-packages (from ipywidgets) (6.16.2)\n",
      "Requirement already satisfied: ipython>=6.1.0 in c:\\users\\jkkim\\appdata\\local\\programs\\python\\python37\\lib\\site-packages (from ipywidgets) (7.34.0)\n",
      "Requirement already satisfied: traitlets>=4.3.1 in c:\\users\\jkkim\\appdata\\local\\programs\\python\\python37\\lib\\site-packages (from ipywidgets) (5.9.0)\n",
      "Requirement already satisfied: widgetsnbextension~=4.0 in c:\\users\\jkkim\\appdata\\local\\programs\\python\\python37\\lib\\site-packages (from ipywidgets) (4.0.5)\n",
      "Requirement already satisfied: jupyterlab-widgets~=3.0 in c:\\users\\jkkim\\appdata\\local\\programs\\python\\python37\\lib\\site-packages (from ipywidgets) (3.0.5)\n",
      "Requirement already satisfied: debugpy>=1.0 in c:\\users\\jkkim\\appdata\\local\\programs\\python\\python37\\lib\\site-packages (from ipykernel>=4.5.1->ipywidgets) (1.6.6)\n",
      "Requirement already satisfied: jupyter-client>=6.1.12 in c:\\users\\jkkim\\appdata\\local\\programs\\python\\python37\\lib\\site-packages (from ipykernel>=4.5.1->ipywidgets) (7.4.9)\n",
      "Requirement already satisfied: matplotlib-inline>=0.1 in c:\\users\\jkkim\\appdata\\local\\programs\\python\\python37\\lib\\site-packages (from ipykernel>=4.5.1->ipywidgets) (0.1.6)\n",
      "Requirement already satisfied: nest-asyncio in c:\\users\\jkkim\\appdata\\local\\programs\\python\\python37\\lib\\site-packages (from ipykernel>=4.5.1->ipywidgets) (1.5.6)\n",
      "Requirement already satisfied: packaging in c:\\users\\jkkim\\appdata\\local\\programs\\python\\python37\\lib\\site-packages (from ipykernel>=4.5.1->ipywidgets) (23.0)\n",
      "Requirement already satisfied: psutil in c:\\users\\jkkim\\appdata\\local\\programs\\python\\python37\\lib\\site-packages (from ipykernel>=4.5.1->ipywidgets) (5.9.4)\n",
      "Requirement already satisfied: pyzmq>=17 in c:\\users\\jkkim\\appdata\\local\\programs\\python\\python37\\lib\\site-packages (from ipykernel>=4.5.1->ipywidgets) (25.0.0)\n",
      "Requirement already satisfied: tornado>=6.1 in c:\\users\\jkkim\\appdata\\local\\programs\\python\\python37\\lib\\site-packages (from ipykernel>=4.5.1->ipywidgets) (6.2)\n",
      "Requirement already satisfied: setuptools>=18.5 in c:\\users\\jkkim\\appdata\\local\\programs\\python\\python37\\lib\\site-packages (from ipython>=6.1.0->ipywidgets) (41.2.0)\n",
      "Requirement already satisfied: jedi>=0.16 in c:\\users\\jkkim\\appdata\\local\\programs\\python\\python37\\lib\\site-packages (from ipython>=6.1.0->ipywidgets) (0.18.2)\n",
      "Requirement already satisfied: decorator in c:\\users\\jkkim\\appdata\\local\\programs\\python\\python37\\lib\\site-packages (from ipython>=6.1.0->ipywidgets) (5.1.1)\n",
      "Requirement already satisfied: pickleshare in c:\\users\\jkkim\\appdata\\local\\programs\\python\\python37\\lib\\site-packages (from ipython>=6.1.0->ipywidgets) (0.7.5)\n",
      "Requirement already satisfied: prompt-toolkit!=3.0.0,!=3.0.1,<3.1.0,>=2.0.0 in c:\\users\\jkkim\\appdata\\local\\programs\\python\\python37\\lib\\site-packages (from ipython>=6.1.0->ipywidgets) (3.0.38)\n",
      "Requirement already satisfied: pygments in c:\\users\\jkkim\\appdata\\local\\programs\\python\\python37\\lib\\site-packages (from ipython>=6.1.0->ipywidgets) (2.14.0)\n",
      "Requirement already satisfied: backcall in c:\\users\\jkkim\\appdata\\local\\programs\\python\\python37\\lib\\site-packages (from ipython>=6.1.0->ipywidgets) (0.2.0)\n",
      "Requirement already satisfied: colorama in c:\\users\\jkkim\\appdata\\local\\programs\\python\\python37\\lib\\site-packages (from ipython>=6.1.0->ipywidgets) (0.4.6)\n",
      "Requirement already satisfied: parso<0.9.0,>=0.8.0 in c:\\users\\jkkim\\appdata\\local\\programs\\python\\python37\\lib\\site-packages (from jedi>=0.16->ipython>=6.1.0->ipywidgets) (0.8.3)\n",
      "Requirement already satisfied: entrypoints in c:\\users\\jkkim\\appdata\\local\\programs\\python\\python37\\lib\\site-packages (from jupyter-client>=6.1.12->ipykernel>=4.5.1->ipywidgets) (0.4)\n",
      "Requirement already satisfied: jupyter-core>=4.9.2 in c:\\users\\jkkim\\appdata\\local\\programs\\python\\python37\\lib\\site-packages (from jupyter-client>=6.1.12->ipykernel>=4.5.1->ipywidgets) (4.12.0)\n",
      "Requirement already satisfied: python-dateutil>=2.8.2 in c:\\users\\jkkim\\appdata\\local\\programs\\python\\python37\\lib\\site-packages (from jupyter-client>=6.1.12->ipykernel>=4.5.1->ipywidgets) (2.8.2)\n",
      "Requirement already satisfied: wcwidth in c:\\users\\jkkim\\appdata\\local\\programs\\python\\python37\\lib\\site-packages (from prompt-toolkit!=3.0.0,!=3.0.1,<3.1.0,>=2.0.0->ipython>=6.1.0->ipywidgets) (0.2.6)\n",
      "Requirement already satisfied: pywin32>=1.0 in c:\\users\\jkkim\\appdata\\local\\programs\\python\\python37\\lib\\site-packages (from jupyter-core>=4.9.2->jupyter-client>=6.1.12->ipykernel>=4.5.1->ipywidgets) (305)\n",
      "Requirement already satisfied: six>=1.5 in c:\\users\\jkkim\\appdata\\local\\programs\\python\\python37\\lib\\site-packages (from python-dateutil>=2.8.2->jupyter-client>=6.1.12->ipykernel>=4.5.1->ipywidgets) (1.16.0)\n"
     ]
    }
   ],
   "source": [
    "!pip install ipywidgets"
   ]
  },
  {
   "cell_type": "code",
   "execution_count": 4,
   "id": "9c431767",
   "metadata": {},
   "outputs": [],
   "source": [
    "import torch\n",
    "import numpy as np\n",
    "import matplotlib.pyplot as plt\n",
    "import os\n",
    "import cv2\n",
    "import copy\n",
    "from torch import nn\n",
    "from torch.utils.data import Dataset, DataLoader\n",
    "from torchvision import transforms, models\n",
    "from ipywidgets import interact"
   ]
  },
  {
   "cell_type": "markdown",
   "id": "bbf24a9f",
   "metadata": {},
   "source": [
    "# 2. 이미지 파일경로 불러오기"
   ]
  },
  {
   "cell_type": "code",
   "execution_count": 5,
   "id": "fc975a77",
   "metadata": {},
   "outputs": [],
   "source": [
    "def list_image_file(data_dir, sub_dir): #    './Covid19-dataset/train/'   ,  'Normal'\n",
    "    image_format = ['jpeg','jpg','png']\n",
    "    image_files = []\n",
    "    \n",
    "    images_dir = os.path.join(data_dir, sub_dir) # './Covid19-dataset/train/Normal'\n",
    "    \n",
    "    # os.path.join : 경로를 합쳐줌\n",
    "    # 각각의 코로나,일반, 폐렴의 폴더가 다르니까 나눠서 합친다\n",
    "    \n",
    "    for file_path in os.listdir(images_dir): # 안에 있는 파일,폴더 다 가져와서 리스트화시킴\n",
    "        if file_path.split(\".\")[-1] in image_format:\n",
    "            # .으로 구분해서 앞은 파일이름, 뒤는 확장명이므로 -1은 확장명이다\n",
    "            # 이미지포맷안에 들어가있다면 빈 리스트(image_files = [])안에 append시킨다,\n",
    "            image_files.append(os.path.join(sub_dir, file_path)) # append시켜서 image_files = []에 쌓는다\n",
    "    return image_files\n",
    "            "
   ]
  },
  {
   "cell_type": "code",
   "execution_count": 6,
   "id": "e46595b6",
   "metadata": {},
   "outputs": [],
   "source": [
    "data_dir = 'C:/python/Project/Covid-19/Covid19-dataset/train/'\n",
    "\n",
    "normals_list = list_image_file(data_dir, 'Normal') # 경로 두개를 합쳐서 리턴시킴\n",
    "covids_list = list_image_file(data_dir, 'Covid')\n",
    "pneumonias_list = list_image_file(data_dir, 'Viral Pneumonia')"
   ]
  },
  {
   "cell_type": "code",
   "execution_count": 7,
   "id": "8688a4a8",
   "metadata": {},
   "outputs": [
    {
     "name": "stdout",
     "output_type": "stream",
     "text": [
      "70\n",
      "111\n",
      "70\n"
     ]
    }
   ],
   "source": [
    "print(len(normals_list))\n",
    "print(len(covids_list))\n",
    "print(len(pneumonias_list))"
   ]
  },
  {
   "cell_type": "markdown",
   "id": "212523ea",
   "metadata": {},
   "source": [
    "# 3. 이미지파일을 RGB 3차원 배열로 불러오기"
   ]
  },
  {
   "cell_type": "code",
   "execution_count": 8,
   "id": "ad5f11f6",
   "metadata": {},
   "outputs": [],
   "source": [
    "def get_RGB_image(data_dir, file_name): # \n",
    "    image_file = os.path.join(data_dir, file_name) # 경로화시킨다.\n",
    "    # join하는 이유는 경로인식이 안돼서 join을 사용. string으로 못함\n",
    "    image = cv2.imread(image_file)\n",
    "    image = cv2.cvtColor(image, cv2.COLOR_BGR2RGB)\n",
    "    return image"
   ]
  },
  {
   "cell_type": "markdown",
   "id": "a76c5e9c",
   "metadata": {},
   "source": [
    "# 4. 이미지 데이터 시각화하기"
   ]
  },
  {
   "cell_type": "code",
   "execution_count": 9,
   "id": "b1ea99e0",
   "metadata": {},
   "outputs": [
    {
     "data": {
      "application/vnd.jupyter.widget-view+json": {
       "model_id": "c6a85148e249438ba14e9a8de1cac7d2",
       "version_major": 2,
       "version_minor": 0
      },
      "text/plain": [
       "interactive(children=(IntSlider(value=0, description='index', max=69), Output()), _dom_classes=('widget-intera…"
      ]
     },
     "metadata": {},
     "output_type": "display_data"
    }
   ],
   "source": [
    "min_num_files = min(len(normals_list), len(covids_list), len(pneumonias_list)) \n",
    "# 각 70,111,70개인데 최소70개니까 중간에 있는 41개를 포기하고 최소 70개 선택\n",
    "\n",
    "\n",
    "\n",
    "@interact(index = (0, min_num_files -1)) # index가 0부터이기 때문에 70개니까 69까지 범위를 줌\n",
    "def show_samples(index = 0):\n",
    "    normal_image = get_RGB_image(data_dir, normals_list[index])\n",
    "    covid_image = get_RGB_image(data_dir, covids_list[index])\n",
    "    pneumonia_image = get_RGB_image(data_dir, pneumonias_list[index])\n",
    "    \n",
    "    plt.figure(figsize = (12, 8))\n",
    "    plt.subplot(131)\n",
    "    plt.title('Normal')\n",
    "    plt.imshow(normal_image)\n",
    "    \n",
    "\n",
    "    plt.subplot(132)\n",
    "    plt.title('Covid')\n",
    "    plt.imshow(covid_image)\n",
    "    \n",
    "\n",
    "    plt.subplot(133)\n",
    "    plt.title('Pneumonia')\n",
    "    plt.imshow(pneumonia_image)\n",
    "    \n",
    "    plt.tight_layout()"
   ]
  },
  {
   "cell_type": "markdown",
   "id": "49e33747",
   "metadata": {},
   "source": [
    "# 5. 학습데이터셋 클래스 만들기\n",
    "* 데이터셋 : 데이터(샘플,정답)을 저장한 것\n",
    "* 데이터로더 : 데이터셋을 접근하기 쉽게 객체(tierable)로 감싼 것"
   ]
  },
  {
   "cell_type": "code",
   "execution_count": 10,
   "id": "f23c7e38",
   "metadata": {},
   "outputs": [],
   "source": [
    "train_data_dir = './Covid19-dataset/train/'\n",
    "class_list = ['Normal','Covid','Viral Pneumonia']"
   ]
  },
  {
   "cell_type": "code",
   "execution_count": 11,
   "id": "dc6cd344",
   "metadata": {},
   "outputs": [],
   "source": [
    "class Chest_dataset(Dataset):\n",
    "    # __init__(): dataset객체를 만들때 얘가 실행됨\n",
    "    # __len__(): data의 갯수를 알아낼수 있는 메소드\n",
    "    # __getitem__(): 여기서 image와 label을 리턴시켜주는것을 만듦. \n",
    "    #                데이터를index로 불러들이면 이 메소드가 호출\n",
    "    \n",
    "    # 이렇게 세개가 필요함\n",
    "    \n",
    "    \n",
    "    def __init__(self, data_dir, transform=None): \n",
    "        # transform은 train인지 test인지 구분하기 위해서 \n",
    "        self.data_dir = data_dir # self를 붙이면 다른 메소드안에서 쓸 수 있음\n",
    "                                 # self를 안 쓰면 이 메소드 안에서만 쓸 수 있음\n",
    "        normals = list_image_file(data_dir, 'Normal') # 리스트를 뽑아와서 normals에 저장\n",
    "                                                      # normals는 self안붙였으니 이 메소드안에서만 사용\n",
    "        covids = list_image_file(data_dir, 'Covid') \n",
    "        pneumonias = list_image_file(data_dir, 'Viral Pneumonia')\n",
    "        \n",
    "        self.files_path = normals + covids + pneumonias # 각각 리스트를 다 더해서 files_path에 저장 \n",
    "        self.transform = transform\n",
    "        \n",
    "        \n",
    "        \n",
    "    def __len__(self): # 스페셜메소드. 오버라이딩(덮어쓰기)\n",
    "        return len(self.files_path) # files_path에 있는 리스트의 길이를 리스트로 ?????\n",
    "        \n",
    "    \n",
    "    \n",
    "    def __getitem__(self, index): # 인덱스의 순서에 있는 것을 찾아주는\n",
    "        # 인덱싱하게되면 호출하게되는 메소드\n",
    "        image_file = os.path.join(self.data_dir, self.files_path[index])\n",
    "        \n",
    "        image = cv2.imread(image_file)\n",
    "        image = cv2.cvtColor(image, cv2.COLOR_BGR2RGB)\n",
    "        \n",
    "        target = class_list.index(self.files_path[index].split(os.sep)[-2]) # 정답\n",
    "        target = class_list.index(self.files_path[index].split(os.sep)[0])\n",
    "        # os.sep : 디렉토리 분리 문자를 리턴(/), Normal/01.jpeg\n",
    "        # -2는 Normal,  0은 01.jpeg\n",
    "        \n",
    "        if self.transform:  # self.transform에 데이터가 있으면 (none이 아니라면)\n",
    "            image = self.transform(image) # \n",
    "            target = torch.Tensor([target]).long()\n",
    "            \n",
    "        return{'image':image, 'target':target}"
   ]
  },
  {
   "cell_type": "code",
   "execution_count": 12,
   "id": "cbf6445f",
   "metadata": {},
   "outputs": [],
   "source": [
    "dset = Chest_dataset(train_data_dir)"
   ]
  },
  {
   "cell_type": "code",
   "execution_count": 13,
   "id": "ba9ac9d2",
   "metadata": {},
   "outputs": [
    {
     "data": {
      "text/plain": [
       "<matplotlib.image.AxesImage at 0x18395183dc8>"
      ]
     },
     "execution_count": 13,
     "metadata": {},
     "output_type": "execute_result"
    },
    {
     "data": {
      "image/png": "[encoded data removed]",
      "text/plain": [
       "<Figure size 640x480 with 1 Axes>"
      ]
     },
     "metadata": {},
     "output_type": "display_data"
    }
   ],
   "source": [
    "index = 200\n",
    "\n",
    "plt.title(class_list[dset[index]['target']]) \n",
    "#폐렴인지, 정상인인지, 코로나인지 말이 'target'에 찍힘\n",
    "plt.imshow(dset[index]['image']) \n",
    "# 위에 이름붙여지고 아래엔 흉부사진이 붙여짐"
   ]
  },
  {
   "cell_type": "markdown",
   "id": "3be75003",
   "metadata": {},
   "source": [
    "# 6. 배열을 연산가능한 텐서로 변환하기"
   ]
  },
  {
   "cell_type": "code",
   "execution_count": 14,
   "id": "8574725a",
   "metadata": {},
   "outputs": [],
   "source": [
    "# transforms.ToTensor()를 사용하여 텐서로 변환시키고, 픽셀값의 범위를 0~1로 조정\n",
    "# 각 채널의 평균을 0.5, 표준편차를 0.5로 정규화 적용\n",
    "\n",
    "\n",
    "transformer = transforms.Compose([ \n",
    "    # compose() : 한꺼번에 여러개를 적용하기위한 함수. \n",
    "    # 특정값, 특정리스터에 한꺼번에 적용하고싶을때 사용함.\n",
    "    \n",
    "    \n",
    "    transforms.ToTensor(), # transforms의 모든 값을 텐서로 바꾸기\n",
    "    transforms.Resize((224,224)), # 이미지 사이즈를 (224,224)로 바꿔주기\n",
    "                                  # 뒤에 쓸 모델인 vgg19이 입력받는 크기가 224,224이기때문에 \n",
    "    transforms.Normalize(mean=[0.5,0.5,0.5], # RGB색상을 모두 0.5로 평균을 맞추기\n",
    "                        std=[0.5,0.5,0.5]) # 값들의 범위를 모두 0.5로 맞추기 \n",
    "                                           # 연산속도 빠르게하기위해)\n",
    "                                           # 정규화하는 이유는 척도가 다르니까 \n",
    "    \n",
    "])"
   ]
  },
  {
   "cell_type": "code",
   "execution_count": 15,
   "id": "666e6675",
   "metadata": {},
   "outputs": [],
   "source": [
    "train_dset = Chest_dataset(train_data_dir, transformer) \n",
    "# dataset클래스안에 넣어줌 ( 경로, transfomer 객체)\n",
    "# __init__()안에있는 fransform=None이 True로 되고 "
   ]
  },
  {
   "cell_type": "code",
   "execution_count": 16,
   "id": "7764ac56",
   "metadata": {},
   "outputs": [],
   "source": [
    "index = 200\n",
    "image = train_dset[index]['image']\n",
    "label = train_dset[index]['target']"
   ]
  },
  {
   "cell_type": "code",
   "execution_count": 17,
   "id": "acc5970b",
   "metadata": {},
   "outputs": [
    {
     "name": "stdout",
     "output_type": "stream",
     "text": [
      "torch.Size([3, 224, 224]) tensor([2])\n"
     ]
    }
   ],
   "source": [
    "print(image.shape, label) # 0은 정상 1는 코로나, 2는 폐렴"
   ]
  },
  {
   "cell_type": "markdown",
   "id": "f9737cef",
   "metadata": {},
   "source": [
    "# 7. 데이터로더 구현하기"
   ]
  },
  {
   "cell_type": "code",
   "execution_count": 18,
   "id": "2161036e",
   "metadata": {},
   "outputs": [],
   "source": [
    "# train_data_dir, val_data_dir 그 둘을 받아서 데이터로더 구현\n",
    "# train시키는 로더랑, valid하는 로더랑 따로 넣었는데 이번엔 합쳐보기\n",
    "\n",
    "def build_dataloader(train_data_dir, val_data_dir):\n",
    "    dataloaders = {}\n",
    "    train_dset = Chest_dataset(train_data_dir, transformer)\n",
    "    # {'train' : }\n",
    "    dataloaders['train'] = DataLoader(train_dset, batch_size=4, shuffle=True, drop_last=True)\n",
    "    # drop_last : batch_size를 4씩으로 쪼개면 자투리가 남는데, 그 자투리가 남은 것은 버려라\n",
    "\n",
    "    \n",
    "    val_dset = Chest_dataset(val_data_dir, transformer) \n",
    "    # train이 아니니까 transformer는 넣을필요 없다\n",
    "    \n",
    "    dataloaders['val'] = DataLoader(val_dset, batch_size=1, shuffle=False, drop_last=False)\n",
    "    # shuffle, drop_last할 필요가 없다\n",
    "    \n",
    "    return dataloaders"
   ]
  },
  {
   "cell_type": "code",
   "execution_count": 19,
   "id": "eda32156",
   "metadata": {},
   "outputs": [],
   "source": [
    "train_data_dir = 'C:\\python\\Project\\Covid-19/Covid19-dataset/train/'\n",
    "val_data_dir = 'C:\\python\\Project\\Covid-19/Covid19-dataset/test/'\n",
    "\n",
    "dataloaders = build_dataloader(train_data_dir, val_data_dir)"
   ]
  },
  {
   "cell_type": "code",
   "execution_count": 20,
   "id": "99dbd466",
   "metadata": {
    "scrolled": true
   },
   "outputs": [
    {
     "name": "stdout",
     "output_type": "stream",
     "text": [
      "0 {'image': tensor([[[[-0.8901, -0.8824, -0.8906,  ..., -0.9068, -0.9285, -0.9292],\n",
      "          [-0.9055, -0.8773, -0.8992,  ..., -0.9137, -0.9199, -0.9136],\n",
      "          [-0.8744, -0.9100, -0.9056,  ..., -0.9007, -0.9173, -0.9062],\n",
      "          ...,\n",
      "          [-0.9230, -0.9085, -0.9012,  ..., -0.8824, -0.8794, -0.8913],\n",
      "          [-0.9134, -0.9059, -0.9132,  ..., -0.8818, -0.8824, -0.8901],\n",
      "          [-0.9144, -0.8902, -0.9010,  ..., -0.8818, -0.8748, -0.8900]],\n",
      "\n",
      "         [[-0.8901, -0.8824, -0.8906,  ..., -0.9068, -0.9285, -0.9292],\n",
      "          [-0.9055, -0.8773, -0.8992,  ..., -0.9137, -0.9199, -0.9136],\n",
      "          [-0.8744, -0.9100, -0.9056,  ..., -0.9007, -0.9173, -0.9062],\n",
      "          ...,\n",
      "          [-0.9230, -0.9085, -0.9012,  ..., -0.8824, -0.8794, -0.8913],\n",
      "          [-0.9134, -0.9059, -0.9132,  ..., -0.8818, -0.8824, -0.8901],\n",
      "          [-0.9144, -0.8902, -0.9010,  ..., -0.8818, -0.8748, -0.8900]],\n",
      "\n",
      "         [[-0.8901, -0.8824, -0.8906,  ..., -0.9068, -0.9285, -0.9292],\n",
      "          [-0.9055, -0.8773, -0.8992,  ..., -0.9137, -0.9199, -0.9136],\n",
      "          [-0.8744, -0.9100, -0.9056,  ..., -0.9007, -0.9173, -0.9062],\n",
      "          ...,\n",
      "          [-0.9230, -0.9085, -0.9012,  ..., -0.8824, -0.8794, -0.8913],\n",
      "          [-0.9134, -0.9059, -0.9132,  ..., -0.8818, -0.8824, -0.8901],\n",
      "          [-0.9144, -0.8902, -0.9010,  ..., -0.8818, -0.8748, -0.8900]]],\n",
      "\n",
      "\n",
      "        [[[-0.9587, -0.9459, -0.8889,  ..., -0.9505, -0.9756, -0.9785],\n",
      "          [-0.9922, -0.9922, -0.9922,  ..., -0.9695, -0.9922, -0.9922],\n",
      "          [-1.0000, -0.9990, -1.0000,  ..., -0.9922, -0.9922, -1.0000],\n",
      "          ...,\n",
      "          [-1.0000, -0.9922, -0.9922,  ..., -0.1499, -0.1553, -0.3535],\n",
      "          [-0.9926, -0.9922, -0.9922,  ..., -0.1855, -0.1735, -0.3272],\n",
      "          [-1.0000, -0.9922, -0.9922,  ..., -0.1786, -0.1772, -0.2431]],\n",
      "\n",
      "         [[-0.9587, -0.9459, -0.8889,  ..., -0.9505, -0.9756, -0.9785],\n",
      "          [-0.9922, -0.9922, -0.9922,  ..., -0.9695, -0.9922, -0.9922],\n",
      "          [-1.0000, -0.9990, -1.0000,  ..., -0.9922, -0.9922, -1.0000],\n",
      "          ...,\n",
      "          [-1.0000, -0.9922, -0.9922,  ..., -0.1499, -0.1553, -0.3535],\n",
      "          [-0.9926, -0.9922, -0.9922,  ..., -0.1855, -0.1735, -0.3272],\n",
      "          [-1.0000, -0.9922, -0.9922,  ..., -0.1786, -0.1772, -0.2431]],\n",
      "\n",
      "         [[-0.9587, -0.9459, -0.8889,  ..., -0.9505, -0.9756, -0.9785],\n",
      "          [-0.9922, -0.9922, -0.9922,  ..., -0.9695, -0.9922, -0.9922],\n",
      "          [-1.0000, -0.9990, -1.0000,  ..., -0.9922, -0.9922, -1.0000],\n",
      "          ...,\n",
      "          [-1.0000, -0.9922, -0.9922,  ..., -0.1499, -0.1553, -0.3535],\n",
      "          [-0.9926, -0.9922, -0.9922,  ..., -0.1855, -0.1735, -0.3272],\n",
      "          [-1.0000, -0.9922, -0.9922,  ..., -0.1786, -0.1772, -0.2431]]],\n",
      "\n",
      "\n",
      "        [[[-1.0000, -1.0000, -1.0000,  ..., -1.0000, -1.0000, -1.0000],\n",
      "          [-1.0000, -1.0000, -1.0000,  ..., -1.0000, -1.0000, -1.0000],\n",
      "          [-1.0000, -1.0000, -1.0000,  ..., -1.0000, -1.0000, -1.0000],\n",
      "          ...,\n",
      "          [-1.0000, -1.0000, -1.0000,  ..., -1.0000, -1.0000, -1.0000],\n",
      "          [-1.0000, -1.0000, -1.0000,  ..., -1.0000, -1.0000, -1.0000],\n",
      "          [-1.0000, -1.0000, -1.0000,  ..., -1.0000, -1.0000, -1.0000]],\n",
      "\n",
      "         [[-1.0000, -1.0000, -1.0000,  ..., -1.0000, -1.0000, -1.0000],\n",
      "          [-1.0000, -1.0000, -1.0000,  ..., -1.0000, -1.0000, -1.0000],\n",
      "          [-1.0000, -1.0000, -1.0000,  ..., -1.0000, -1.0000, -1.0000],\n",
      "          ...,\n",
      "          [-1.0000, -1.0000, -1.0000,  ..., -1.0000, -1.0000, -1.0000],\n",
      "          [-1.0000, -1.0000, -1.0000,  ..., -1.0000, -1.0000, -1.0000],\n",
      "          [-1.0000, -1.0000, -1.0000,  ..., -1.0000, -1.0000, -1.0000]],\n",
      "\n",
      "         [[-1.0000, -1.0000, -1.0000,  ..., -1.0000, -1.0000, -1.0000],\n",
      "          [-1.0000, -1.0000, -1.0000,  ..., -1.0000, -1.0000, -1.0000],\n",
      "          [-1.0000, -1.0000, -1.0000,  ..., -1.0000, -1.0000, -1.0000],\n",
      "          ...,\n",
      "          [-1.0000, -1.0000, -1.0000,  ..., -1.0000, -1.0000, -1.0000],\n",
      "          [-1.0000, -1.0000, -1.0000,  ..., -1.0000, -1.0000, -1.0000],\n",
      "          [-1.0000, -1.0000, -1.0000,  ..., -1.0000, -1.0000, -1.0000]]],\n",
      "\n",
      "\n",
      "        [[[-0.6193, -0.6096, -0.6078,  ..., -0.7961, -1.0000, -1.0000],\n",
      "          [-0.5677, -0.5763, -0.5718,  ..., -0.7961, -1.0000, -1.0000],\n",
      "          [-0.5422, -0.5373, -0.5272,  ..., -0.8196, -1.0000, -1.0000],\n",
      "          ...,\n",
      "          [-0.8196, -0.8588, -0.8196,  ..., -0.8588, -0.8335, -1.0000],\n",
      "          [-0.8196, -0.8196, -0.7961,  ..., -0.8588, -0.8335, -1.0000],\n",
      "          [-0.8196, -0.8588, -0.7961,  ..., -0.8588, -0.8335, -1.0000]],\n",
      "\n",
      "         [[-0.6193, -0.6096, -0.6078,  ..., -0.7961, -1.0000, -1.0000],\n",
      "          [-0.5677, -0.5763, -0.5718,  ..., -0.7961, -1.0000, -1.0000],\n",
      "          [-0.5422, -0.5373, -0.5272,  ..., -0.8196, -1.0000, -1.0000],\n",
      "          ...,\n",
      "          [-0.8196, -0.8588, -0.8196,  ..., -0.8588, -0.8335, -1.0000],\n",
      "          [-0.8196, -0.8196, -0.7961,  ..., -0.8588, -0.8335, -1.0000],\n",
      "          [-0.8196, -0.8588, -0.7961,  ..., -0.8588, -0.8335, -1.0000]],\n",
      "\n",
      "         [[-0.6193, -0.6096, -0.6078,  ..., -0.7961, -1.0000, -1.0000],\n",
      "          [-0.5677, -0.5763, -0.5718,  ..., -0.7961, -1.0000, -1.0000],\n",
      "          [-0.5422, -0.5373, -0.5272,  ..., -0.8196, -1.0000, -1.0000],\n",
      "          ...,\n",
      "          [-0.8196, -0.8588, -0.8196,  ..., -0.8588, -0.8335, -1.0000],\n",
      "          [-0.8196, -0.8196, -0.7961,  ..., -0.8588, -0.8335, -1.0000],\n",
      "          [-0.8196, -0.8588, -0.7961,  ..., -0.8588, -0.8335, -1.0000]]]]), 'target': tensor([[0],\n",
      "        [1],\n",
      "        [2],\n",
      "        [0]])}\n"
     ]
    }
   ],
   "source": [
    "for i, d in enumerate(dataloaders['train']): # 인덱스값과 실제 데이터 값 출력\n",
    "    print(i, d) # i는 0, d는 나머지 전부 # 타겟도 들어\n",
    "    if i == 0: # 너무많으니까 1개만 돌리게 if문사용\n",
    "        break\n",
    "        \n",
    "        # 1은 코로나 0은 정상, 2는 폐렴"
   ]
  },
  {
   "cell_type": "code",
   "execution_count": 21,
   "id": "8682936a",
   "metadata": {},
   "outputs": [
    {
     "data": {
      "text/plain": [
       "torch.Size([4, 1])"
      ]
     },
     "execution_count": 21,
     "metadata": {},
     "output_type": "execute_result"
    }
   ],
   "source": [
    "d['target'].shape"
   ]
  },
  {
   "cell_type": "code",
   "execution_count": 22,
   "id": "b5f9fec9",
   "metadata": {},
   "outputs": [
    {
     "data": {
      "text/plain": [
       "tensor([0, 1, 2, 0])"
      ]
     },
     "execution_count": 22,
     "metadata": {},
     "output_type": "execute_result"
    }
   ],
   "source": [
    "d['target'].squeeze() # 1: 코로나, 2: 폐렴, 0: 정상"
   ]
  },
  {
   "cell_type": "markdown",
   "id": "a4934286",
   "metadata": {},
   "source": [
    "# 8. Classification 모델(VGG19) 불러오기"
   ]
  },
  {
   "cell_type": "code",
   "execution_count": 23,
   "id": "149dca9f",
   "metadata": {},
   "outputs": [
    {
     "name": "stderr",
     "output_type": "stream",
     "text": [
      "c:\\users\\jkkim\\appdata\\local\\programs\\python\\python37\\lib\\site-packages\\torchvision\\models\\_utils.py:209: UserWarning: The parameter 'pretrained' is deprecated since 0.13 and may be removed in the future, please use 'weights' instead.\n",
      "  f\"The parameter '{pretrained_param}' is deprecated since 0.13 and may be removed in the future, \"\n",
      "c:\\users\\jkkim\\appdata\\local\\programs\\python\\python37\\lib\\site-packages\\torchvision\\models\\_utils.py:223: UserWarning: Arguments other than a weight enum or `None` for 'weights' are deprecated since 0.13 and may be removed in the future. The current behavior is equivalent to passing `weights=VGG19_Weights.IMAGENET1K_V1`. You can also use `weights=VGG19_Weights.DEFAULT` to get the most up-to-date weights.\n",
      "  warnings.warn(msg)\n"
     ]
    }
   ],
   "source": [
    "model = models.vgg19(pretrained=True)\n",
    "# pretrained = True : 미리 학습된 weight들을 가지고 옴"
   ]
  },
  {
   "cell_type": "code",
   "execution_count": 24,
   "id": "868bd11d",
   "metadata": {},
   "outputs": [
    {
     "name": "stdout",
     "output_type": "stream",
     "text": [
      "Requirement already satisfied: torchsummary in c:\\users\\jkkim\\appdata\\local\\programs\\python\\python37\\lib\\site-packages (1.5.1)\n"
     ]
    }
   ],
   "source": [
    "# pytorch 모델을 summary해주는 모듈\n",
    "!pip install torchsummary"
   ]
  },
  {
   "cell_type": "code",
   "execution_count": 25,
   "id": "acb282ac",
   "metadata": {},
   "outputs": [],
   "source": [
    "from torchsummary import summary"
   ]
  },
  {
   "cell_type": "code",
   "execution_count": 26,
   "id": "027ef8e2",
   "metadata": {
    "scrolled": false
   },
   "outputs": [
    {
     "name": "stdout",
     "output_type": "stream",
     "text": [
      "----------------------------------------------------------------\n",
      "        Layer (type)               Output Shape         Param #\n",
      "================================================================\n",
      "            Conv2d-1          [1, 64, 224, 224]           1,792\n",
      "              ReLU-2          [1, 64, 224, 224]               0\n",
      "            Conv2d-3          [1, 64, 224, 224]          36,928\n",
      "              ReLU-4          [1, 64, 224, 224]               0\n",
      "         MaxPool2d-5          [1, 64, 112, 112]               0\n",
      "            Conv2d-6         [1, 128, 112, 112]          73,856\n",
      "              ReLU-7         [1, 128, 112, 112]               0\n",
      "            Conv2d-8         [1, 128, 112, 112]         147,584\n",
      "              ReLU-9         [1, 128, 112, 112]               0\n",
      "        MaxPool2d-10           [1, 128, 56, 56]               0\n",
      "           Conv2d-11           [1, 256, 56, 56]         295,168\n",
      "             ReLU-12           [1, 256, 56, 56]               0\n",
      "           Conv2d-13           [1, 256, 56, 56]         590,080\n",
      "             ReLU-14           [1, 256, 56, 56]               0\n",
      "           Conv2d-15           [1, 256, 56, 56]         590,080\n",
      "             ReLU-16           [1, 256, 56, 56]               0\n",
      "           Conv2d-17           [1, 256, 56, 56]         590,080\n",
      "             ReLU-18           [1, 256, 56, 56]               0\n",
      "        MaxPool2d-19           [1, 256, 28, 28]               0\n",
      "           Conv2d-20           [1, 512, 28, 28]       1,180,160\n",
      "             ReLU-21           [1, 512, 28, 28]               0\n",
      "           Conv2d-22           [1, 512, 28, 28]       2,359,808\n",
      "             ReLU-23           [1, 512, 28, 28]               0\n",
      "           Conv2d-24           [1, 512, 28, 28]       2,359,808\n",
      "             ReLU-25           [1, 512, 28, 28]               0\n",
      "           Conv2d-26           [1, 512, 28, 28]       2,359,808\n",
      "             ReLU-27           [1, 512, 28, 28]               0\n",
      "        MaxPool2d-28           [1, 512, 14, 14]               0\n",
      "           Conv2d-29           [1, 512, 14, 14]       2,359,808\n",
      "             ReLU-30           [1, 512, 14, 14]               0\n",
      "           Conv2d-31           [1, 512, 14, 14]       2,359,808\n",
      "             ReLU-32           [1, 512, 14, 14]               0\n",
      "           Conv2d-33           [1, 512, 14, 14]       2,359,808\n",
      "             ReLU-34           [1, 512, 14, 14]               0\n",
      "           Conv2d-35           [1, 512, 14, 14]       2,359,808\n",
      "             ReLU-36           [1, 512, 14, 14]               0\n",
      "        MaxPool2d-37             [1, 512, 7, 7]               0\n",
      "AdaptiveAvgPool2d-38             [1, 512, 7, 7]               0\n",
      "           Linear-39                  [1, 4096]     102,764,544\n",
      "             ReLU-40                  [1, 4096]               0\n",
      "          Dropout-41                  [1, 4096]               0\n",
      "           Linear-42                  [1, 4096]      16,781,312\n",
      "             ReLU-43                  [1, 4096]               0\n",
      "          Dropout-44                  [1, 4096]               0\n",
      "           Linear-45                  [1, 1000]       4,097,000\n",
      "================================================================\n",
      "Total params: 143,667,240\n",
      "Trainable params: 143,667,240\n",
      "Non-trainable params: 0\n",
      "----------------------------------------------------------------\n",
      "Input size (MB): 0.57\n",
      "Forward/backward pass size (MB): 238.69\n",
      "Params size (MB): 548.05\n",
      "Estimated Total Size (MB): 787.31\n",
      "----------------------------------------------------------------\n"
     ]
    }
   ],
   "source": [
    "summary(model, (3, 224, 224), batch_size=1, device='cpu') # 3채널짜리 224*224인 shape, \n",
    "\n",
    "#  MaxPool2d-37 까지가 cnn\n",
    "# AdaptiveAvgPool2d-38 부터 FC모델 \n",
    "\n",
    "# 마지막에 1000개가 나오니까 3개에 맞게 (정상, 코로나, 폐렴) 분류할 것"
   ]
  },
  {
   "cell_type": "markdown",
   "id": "8d579c29",
   "metadata": {},
   "source": [
    "# 8-1. CNN\n",
    "* 합성곱 인공 신경망\n",
    "* 전통적인 뉴럴 네트워크 앞에 컨볼루셔널 계층을 붙인 형태\n",
    "* 컨볼루셔널 계층을 통해서 입력 받은 이미지에 대한 특징(Feature)을 추출하게 되고, 추출한 특징을 기반으로 기존의 뉴럴 네트워크에 이용하여 분류"
   ]
  },
  {
   "cell_type": "markdown",
   "id": "8e813416",
   "metadata": {},
   "source": [
    "# 8-1. CNN을 사용하는 이유\n",
    "* 영상을 분류할때 DNN(Deep Neural Network)의 문제점\n",
    "    * 일반적인 DNN은 1차원 형태의 데이터를 사용\n",
    "    * 2차원의 형태의 이미지가 입력되는 경우, flatten 시켜서 한줄로 데이터를 넣음\n",
    "    * 이미지의 공간적/지역적 정보가 손실\n",
    "* DNN의 문제점을 해결하기 위해 고안한 해결책 -> 이미지를 날것(raw input) 그대로 받음으로 공간적/지역적 정보를 유지"
   ]
  },
  {
   "cell_type": "markdown",
   "id": "b5e725e8",
   "metadata": {},
   "source": [
    "# 8-2. 컨볼루셔널 레이러(Convolutional Layer)\n",
    "* 입력 데이터로부터 특징을 추출하는 역할\n",
    "* 특징을 추출하는 필터(Filter)를 사용함(https://setosa.io/ev/image-kernels/)\n",
    "* 필터의 값을 비선형 값으로 바꿔주는 엑티베이션(Activation)함수를 사용\n",
    "* 필터를 통해 연산을 하고 나온 데이터에 엑티베이션 함수(주로 ReLU)에 넣어 이미지 맵을 그림"
   ]
  },
  {
   "cell_type": "markdown",
   "id": "cb2d2d5b",
   "metadata": {},
   "source": [
    "# 8-3. 풀링(pooling)\n",
    "* Feature map의 사이즈를 줄이는 방법\n",
    "* 데이터의 크기를 줄이고 싶을 때 선택적으로 사용\n",
    "* max pooling : 사이즈를 점진적으로 줄이는 방법. 선명한 정보만 남겨서 판단과 학습이 쉬워지고 노이즈가 줄여듬"
   ]
  },
  {
   "cell_type": "markdown",
   "id": "ec605dbb",
   "metadata": {},
   "source": [
    "# 8-4. 패딩(padding)\n",
    "* CNN 네트워크 특징 중 여러 단계에 걸쳐서 계속 필터를 연속적으로 적용하면 필터 적용 후에 결과값이 처음에 비해 작아지게 됨 -> 특징이 유실될 수 있음\n",
    "* 충분히 특징이 추출되기 전에 결과 값이 작이지지 않도록 패딩 기법을 사용\n",
    "* 입력값 주위로 0을 넣어서 입력 값의 크기를 인위적으로 키워 결과갑이 작아지는 것을 방지"
   ]
  },
  {
   "cell_type": "markdown",
   "id": "94dad3f8",
   "metadata": {},
   "source": [
    "# 8-5. 스트라이드(stride)\n",
    "* 필터를 적용하는 간격(예 : 우측으로 한칸씩 아래로 한칸씩 적용)을 설정\n",
    "* 필터를 적용해서 얻어낸 결과를 Feature map 또는 activation map이라고 부름"
   ]
  },
  {
   "cell_type": "markdown",
   "id": "af15f28c",
   "metadata": {},
   "source": [
    "# 8-6. 드롭아웃 레이어(dropout layter)\n",
    "* 오버피팅을 막기 위한 방법\n",
    "* 뉴럴 네트워크가 학습중일때 랜덤하게 값을 발생하여 학습을 방해함으로 학습용 데이터에 결과가 치우치는 것을 방지함"
   ]
  },
  {
   "cell_type": "markdown",
   "id": "3d7647c2",
   "metadata": {},
   "source": [
    "# 8-7. FC Layer(Fully Connected Layer)\n",
    "* 이미지를 분류/설명하기 위해 예측하는 구간"
   ]
  },
  {
   "cell_type": "code",
   "execution_count": 27,
   "id": "cf124b88",
   "metadata": {},
   "outputs": [
    {
     "data": {
      "text/plain": [
       "VGG(\n",
       "  (features): Sequential(\n",
       "    (0): Conv2d(3, 64, kernel_size=(3, 3), stride=(1, 1), padding=(1, 1))\n",
       "    (1): ReLU(inplace=True)\n",
       "    (2): Conv2d(64, 64, kernel_size=(3, 3), stride=(1, 1), padding=(1, 1))\n",
       "    (3): ReLU(inplace=True)\n",
       "    (4): MaxPool2d(kernel_size=2, stride=2, padding=0, dilation=1, ceil_mode=False)\n",
       "    (5): Conv2d(64, 128, kernel_size=(3, 3), stride=(1, 1), padding=(1, 1))\n",
       "    (6): ReLU(inplace=True)\n",
       "    (7): Conv2d(128, 128, kernel_size=(3, 3), stride=(1, 1), padding=(1, 1))\n",
       "    (8): ReLU(inplace=True)\n",
       "    (9): MaxPool2d(kernel_size=2, stride=2, padding=0, dilation=1, ceil_mode=False)\n",
       "    (10): Conv2d(128, 256, kernel_size=(3, 3), stride=(1, 1), padding=(1, 1))\n",
       "    (11): ReLU(inplace=True)\n",
       "    (12): Conv2d(256, 256, kernel_size=(3, 3), stride=(1, 1), padding=(1, 1))\n",
       "    (13): ReLU(inplace=True)\n",
       "    (14): Conv2d(256, 256, kernel_size=(3, 3), stride=(1, 1), padding=(1, 1))\n",
       "    (15): ReLU(inplace=True)\n",
       "    (16): Conv2d(256, 256, kernel_size=(3, 3), stride=(1, 1), padding=(1, 1))\n",
       "    (17): ReLU(inplace=True)\n",
       "    (18): MaxPool2d(kernel_size=2, stride=2, padding=0, dilation=1, ceil_mode=False)\n",
       "    (19): Conv2d(256, 512, kernel_size=(3, 3), stride=(1, 1), padding=(1, 1))\n",
       "    (20): ReLU(inplace=True)\n",
       "    (21): Conv2d(512, 512, kernel_size=(3, 3), stride=(1, 1), padding=(1, 1))\n",
       "    (22): ReLU(inplace=True)\n",
       "    (23): Conv2d(512, 512, kernel_size=(3, 3), stride=(1, 1), padding=(1, 1))\n",
       "    (24): ReLU(inplace=True)\n",
       "    (25): Conv2d(512, 512, kernel_size=(3, 3), stride=(1, 1), padding=(1, 1))\n",
       "    (26): ReLU(inplace=True)\n",
       "    (27): MaxPool2d(kernel_size=2, stride=2, padding=0, dilation=1, ceil_mode=False)\n",
       "    (28): Conv2d(512, 512, kernel_size=(3, 3), stride=(1, 1), padding=(1, 1))\n",
       "    (29): ReLU(inplace=True)\n",
       "    (30): Conv2d(512, 512, kernel_size=(3, 3), stride=(1, 1), padding=(1, 1))\n",
       "    (31): ReLU(inplace=True)\n",
       "    (32): Conv2d(512, 512, kernel_size=(3, 3), stride=(1, 1), padding=(1, 1))\n",
       "    (33): ReLU(inplace=True)\n",
       "    (34): Conv2d(512, 512, kernel_size=(3, 3), stride=(1, 1), padding=(1, 1))\n",
       "    (35): ReLU(inplace=True)\n",
       "    (36): MaxPool2d(kernel_size=2, stride=2, padding=0, dilation=1, ceil_mode=False)\n",
       "  )\n",
       "  (avgpool): AdaptiveAvgPool2d(output_size=(7, 7))\n",
       "  (classifier): Sequential(\n",
       "    (0): Linear(in_features=25088, out_features=4096, bias=True)\n",
       "    (1): ReLU(inplace=True)\n",
       "    (2): Dropout(p=0.5, inplace=False)\n",
       "    (3): Linear(in_features=4096, out_features=4096, bias=True)\n",
       "    (4): ReLU(inplace=True)\n",
       "    (5): Dropout(p=0.5, inplace=False)\n",
       "    (6): Linear(in_features=4096, out_features=1000, bias=True)\n",
       "  )\n",
       ")"
      ]
     },
     "execution_count": 27,
     "metadata": {},
     "output_type": "execute_result"
    }
   ],
   "source": [
    "model"
   ]
  },
  {
   "cell_type": "markdown",
   "id": "b70a219b",
   "metadata": {},
   "source": [
    "# 9. 데이터에 맞게 모델 Head 부분을 수정하기"
   ]
  },
  {
   "cell_type": "code",
   "execution_count": 28,
   "id": "f94e976a",
   "metadata": {},
   "outputs": [],
   "source": [
    "model.avgpool = nn.AdaptiveAvgPool2d(output_size=(1,1))\n",
    "\n",
    "model.classifier = nn.Sequential(\n",
    "    nn.Flatten(), # cnn은 이미지의 위치값을 가지고있는 행렬모델인데, FC쪽으로 가져오면 평평하게 만들어야한다.\n",
    "    nn.Linear(512, 256), # cnn마지막형태가 (34): Conv2d(512, 512) 이므로 반으로 줄여준다. 항상 2의 배수\n",
    "    nn.ReLU(),\n",
    "    nn.Dropout(0.1), # 과대적합나오지않게 10프로만 이상한 값 넣기\n",
    "    nn.Linear(256, len(class_list)), # 256으로 줄였으니까 256으로 받고, list의 갯수만큼 계산해서 바꿔줌\n",
    "    nn.Sigmoid() # 참인지 거짓인지 바꿔서 밖으로 보내줌\n",
    "    \n",
    ")"
   ]
  },
  {
   "cell_type": "code",
   "execution_count": 29,
   "id": "1e77cdf2",
   "metadata": {},
   "outputs": [],
   "source": [
    "# 위에 한것을 함수화 시킴\n",
    "\n",
    "def build_vgg19_based_model(device_name='cpu'):\n",
    "    device = torch.device(device_name)\n",
    "    model = models.vgg19(pretrained=True) # 미리 학습된 정보를 가져와서 학습시킴\n",
    "    model.avgpool = nn.AdaptiveAvgPool2d(output_size=(1,1)) \n",
    "    \n",
    "    model.classifier = nn.Sequential( # sequential : 레이어를 만들어주는 함수\n",
    "        nn.Flatten(), # cnn은 이미지의 위치값을 가지고있는 행렬모델인데, FC쪽으로 가져오면 평평하게 만들어야한다.\n",
    "        nn.Linear(512, 256), # cnn마지막형태가 (34): Conv2d(512, 512) 이므로 반으로 줄여준다. 항상 2의 배수\n",
    "                            # 512 데이터를 받아서 256으로 내보냄\n",
    "        nn.ReLU(),\n",
    "        nn.Linear(256, len(class_list)), # 256으로 줄였으니까 256으로 받고, list의 갯수만큼 계산해서 바꿔줌\n",
    "        nn.Softmax(dim=1) # 3개의 데이터를 1개의 확률로 바꿔주는?\n",
    "    )\n",
    "    return model.to(device)"
   ]
  },
  {
   "cell_type": "code",
   "execution_count": 30,
   "id": "ef8b9311",
   "metadata": {},
   "outputs": [],
   "source": [
    "model = build_vgg19_based_model(device_name='cpu')"
   ]
  },
  {
   "cell_type": "code",
   "execution_count": 31,
   "id": "15139981",
   "metadata": {},
   "outputs": [
    {
     "name": "stdout",
     "output_type": "stream",
     "text": [
      "----------------------------------------------------------------\n",
      "        Layer (type)               Output Shape         Param #\n",
      "================================================================\n",
      "            Conv2d-1          [1, 64, 224, 224]           1,792\n",
      "              ReLU-2          [1, 64, 224, 224]               0\n",
      "            Conv2d-3          [1, 64, 224, 224]          36,928\n",
      "              ReLU-4          [1, 64, 224, 224]               0\n",
      "         MaxPool2d-5          [1, 64, 112, 112]               0\n",
      "            Conv2d-6         [1, 128, 112, 112]          73,856\n",
      "              ReLU-7         [1, 128, 112, 112]               0\n",
      "            Conv2d-8         [1, 128, 112, 112]         147,584\n",
      "              ReLU-9         [1, 128, 112, 112]               0\n",
      "        MaxPool2d-10           [1, 128, 56, 56]               0\n",
      "           Conv2d-11           [1, 256, 56, 56]         295,168\n",
      "             ReLU-12           [1, 256, 56, 56]               0\n",
      "           Conv2d-13           [1, 256, 56, 56]         590,080\n",
      "             ReLU-14           [1, 256, 56, 56]               0\n",
      "           Conv2d-15           [1, 256, 56, 56]         590,080\n",
      "             ReLU-16           [1, 256, 56, 56]               0\n",
      "           Conv2d-17           [1, 256, 56, 56]         590,080\n",
      "             ReLU-18           [1, 256, 56, 56]               0\n",
      "        MaxPool2d-19           [1, 256, 28, 28]               0\n",
      "           Conv2d-20           [1, 512, 28, 28]       1,180,160\n",
      "             ReLU-21           [1, 512, 28, 28]               0\n",
      "           Conv2d-22           [1, 512, 28, 28]       2,359,808\n",
      "             ReLU-23           [1, 512, 28, 28]               0\n",
      "           Conv2d-24           [1, 512, 28, 28]       2,359,808\n",
      "             ReLU-25           [1, 512, 28, 28]               0\n",
      "           Conv2d-26           [1, 512, 28, 28]       2,359,808\n",
      "             ReLU-27           [1, 512, 28, 28]               0\n",
      "        MaxPool2d-28           [1, 512, 14, 14]               0\n",
      "           Conv2d-29           [1, 512, 14, 14]       2,359,808\n",
      "             ReLU-30           [1, 512, 14, 14]               0\n",
      "           Conv2d-31           [1, 512, 14, 14]       2,359,808\n",
      "             ReLU-32           [1, 512, 14, 14]               0\n",
      "           Conv2d-33           [1, 512, 14, 14]       2,359,808\n",
      "             ReLU-34           [1, 512, 14, 14]               0\n",
      "           Conv2d-35           [1, 512, 14, 14]       2,359,808\n",
      "             ReLU-36           [1, 512, 14, 14]               0\n",
      "        MaxPool2d-37             [1, 512, 7, 7]               0\n",
      "AdaptiveAvgPool2d-38             [1, 512, 1, 1]               0\n",
      "          Flatten-39                   [1, 512]               0\n",
      "           Linear-40                   [1, 256]         131,328\n",
      "             ReLU-41                   [1, 256]               0\n",
      "           Linear-42                     [1, 3]             771\n",
      "          Softmax-43                     [1, 3]               0\n",
      "================================================================\n",
      "Total params: 20,156,483\n",
      "Trainable params: 20,156,483\n",
      "Non-trainable params: 0\n",
      "----------------------------------------------------------------\n",
      "Input size (MB): 0.57\n",
      "Forward/backward pass size (MB): 238.31\n",
      "Params size (MB): 76.89\n",
      "Estimated Total Size (MB): 315.78\n",
      "----------------------------------------------------------------\n"
     ]
    }
   ],
   "source": [
    "summary(model, (3, 224, 224), batch_size=1, device='cpu') # 3채널짜리 224*224, "
   ]
  },
  {
   "cell_type": "markdown",
   "id": "af1d20d6",
   "metadata": {},
   "source": [
    "# 10. 손실함수(loss function) 불러오기\n",
    "* input x에 대한 예측값과 실제값 사이의 오차를 계산하는 함수\n",
    "* cost function : 모든 input dataset에 대하여 오차를 계산하는 함수"
   ]
  },
  {
   "cell_type": "code",
   "execution_count": 32,
   "id": "964bf0b9",
   "metadata": {},
   "outputs": [],
   "source": [
    "loss_func = nn.CrossEntropyLoss(reduction='mean')"
   ]
  },
  {
   "cell_type": "markdown",
   "id": "3a34d2e0",
   "metadata": {},
   "source": [
    "# 11. Gradient 최적화 함수 불러오기"
   ]
  },
  {
   "cell_type": "code",
   "execution_count": 33,
   "id": "baa07f66",
   "metadata": {},
   "outputs": [],
   "source": [
    "optimizer = torch.optim.SGD(model.parameters(), lr=1E-3, momentum=0.9)\n",
    "\n",
    "# model.parameter()에 기울기값을 넣어줌. \n",
    "# 로컬미니멀에 빠지지않게 모멘텀을 쓴다"
   ]
  },
  {
   "cell_type": "markdown",
   "id": "7c3fd6ee",
   "metadata": {},
   "source": [
    "# 11-1. 경사하강법의 종류\n",
    "* 배치 경사 하강법\n",
    "    * 가장 기본적인 경사 하강법으로 Vanilla Gradient Descent라고 부름\n",
    "    * 데이터셋 전체를 고려하여 손실함수를 계싼\n",
    "    * 한 번의 Epoch에 모든 파라미터 업데이터를 단 한번만 수행\n",
    "    * batch의 갯수와 literation은 1이고 batch size는 전체 데이터의 갯수\n",
    "    * 파라미터 업데이트할 때 전체 데이터셋을 고려하기 때문에 모델 학습 시 많은 시간과 메모리가 필요하다는 단점\n",
    "    \n",
    "* 확률적 경사 하강법(Stochastic Gradient Descent)\n",
    "    * 배치 경사 하강법이 모델 학습 시 많은 시간과 메모리가 필요하다는 단점을 개선하기 위해 제안된 기법\n",
    "    * batch size를 1로 설정하여 파라미터를 업데이트하기 때문에 배치 경사 하강법보다 빠르고 적은 메모리로 학습이 진행\n",
    "    * 중복 데이터를 뽑을 가능성이 있음\n",
    "    * 파라미터 값의 업데이트 폭이 불안정\n",
    "    \n",
    "* 미니 배치 경사 하강법\n",
    "    * batch size가 1도 아니고, 전체 데이터 갯수도 아닌 경우\n",
    "    * 배치 경사 하강법보다 모델 학습 속도가 빠르고, 확률적 경사 하강법보다 안정적인 장점이 있음\n",
    "    * 일반적으로 batch size를 2의 n제곱에 해당하는 값으로 설정"
   ]
  },
  {
   "cell_type": "markdown",
   "id": "c142b372",
   "metadata": {},
   "source": [
    "# 11-2. 경사 하강법 알고리즘\n",
    "* GD(gradiant descent)\n",
    "    * 모든 데이터를 사용하여 계산하는 방법으로 학습시간이 오래 걸림\n",
    "* SGD(Stochastic Gradient Descent)\n",
    "    * 확률적 경사 하강법으로 모든 데이터에 대해 가중치를 조절하는 것이 아닌 랜덤으로 일부를 추출하여 가중치를 조절하는 방법\n",
    "* Momentum\n",
    "    * 관성을 사용하는 방법으로 local minima를 해결하기 위해 고안\n",
    "    * 이전의 방향을 기억하여 관성처럼 추가적인 이동을 하며 local minima 문제를 해결할 확률을 높임\n",
    "* Adagrad\n",
    "    * 학습률과 관련된 옵티마이저로, Adagrad라는 방식은 변수의 업데이트가 잦을수록 학습률을 조정하는 방식\n",
    "* RMSprop\n",
    "    * Adagrad는 학습률이 작아지는 문제가 발생\n",
    "    * 위 문제를 해결하기 위해 만들어진 옵티마이저로, 기울기를 단순히 누적하는 것이 아닌 가중이동평균을 사용하여 최근의 기울기에 더 높은 가중치를 두는 방식을 적용한 방법\n",
    "* Adam(Adaptive Moment Estimation)\n",
    "    * Momentum을 사용\n",
    "    * RMSprop처럼 지수이동평균을 사용하여 학습률을 조정"
   ]
  },
  {
   "cell_type": "markdown",
   "id": "81946d13",
   "metadata": {},
   "source": [
    "# 12. 모델 검증을 위한 Accuracy 생성하기"
   ]
  },
  {
   "cell_type": "code",
   "execution_count": 34,
   "id": "73087ca6",
   "metadata": {},
   "outputs": [],
   "source": [
    "@torch.no_grad() # 학습할때 쓰는 여러가지 필요한 성능들을 꺼줘서 학습을 하는 것이 아니라 검증을 할 때 사용.\n",
    "def get_accuracy(image, target, model): # 검증을 하는 부분\n",
    "    batch_size = image.shape[0]\n",
    "    prediction = model(image)\n",
    "    _, pred_label = torch.max(prediction, dim=1) # 앞은 필요가 없으니 _를 쓴다. 예측값 중 가장 큰 것을 뽑아 pred_label에 넣어줌\n",
    "    is_correct = (pred_label == target)\n",
    "    return is_correct.cpu().numpy().sum() / batch_size"
   ]
  },
  {
   "cell_type": "markdown",
   "id": "102a435e",
   "metadata": {},
   "source": [
    "# 13. 모델 학습을 위한 함수 구현하기"
   ]
  },
  {
   "cell_type": "code",
   "execution_count": 35,
   "id": "375b0f57",
   "metadata": {},
   "outputs": [],
   "source": [
    "device = torch.device('cpu')"
   ]
  },
  {
   "cell_type": "code",
   "execution_count": 36,
   "id": "7ba2ac97",
   "metadata": {},
   "outputs": [],
   "source": [
    "def train_one_epoch(dataloaders, model, optimizer, loss_func, device):\n",
    "    \n",
    "    losses = {} # 리턴 시켜줄거기때문에 딕셔너리형태로 만듦\n",
    "    accuracies = {} # 딕셔너리형태로 저장할 거기때문에 빈 딕셔너리 만든다\n",
    "    \n",
    "    \n",
    "    # train과 val을 따로따로 만들지않고 한번에 쓸 수 있다.\n",
    "    # for문에 train돌때랑 val돌때랑 따로 돌게 하고, 이 안에서 if문으로 train일때 어떻게햐고 \n",
    "    # val일때 어떻게 하는지 쓰고, 잘 나눠주기만 하면 한방에 쓸 수있따\n",
    "    \n",
    "    for tv in ['train', 'val']: #'train'일 때 tv로 한번, 'val'일때 tv로 한번\n",
    "        running_loss = 0.0  # float값 \n",
    "        running_correct = 0 # 변수 초기화\n",
    "        \n",
    "        if tv == 'train': # train일때 학습시켜라\n",
    "            model.train()\n",
    "        else:\n",
    "            model.eval() # 검증에 대한 메모리만 사용할 수 있게 정리해주는 함수\n",
    "            \n",
    "            \n",
    "            \n",
    "        \n",
    "        for index, batch in enumerate(dataloaders[tv]): # train일때는 index와 batch로 나뉘어지고, \n",
    "                                                    # val로 내려오면 index, batch로 나뉘어서돈다\n",
    "            image = batch['image'].to(device) \n",
    "            target = batch['target'].squeeze(dim=1).to(device) \n",
    "            \n",
    "            \n",
    "            \n",
    "            with torch.set_grad_enabled(tv == 'train'): # grad를 세팅함. \n",
    "                                                # train일때 grad가 필요함.valid일때는 안필요함.\n",
    "                # train일때는 true가 돼서 grad를 켜주니까 역전파같은것이 활성화되고, \n",
    "                # train이 아닐때 false가 돼서 with안에 들어가있는 것들은 안쓰게됨\n",
    "                prediction = model(image)\n",
    "                loss = loss_func(prediction, target)\n",
    "                \n",
    "                if tv == 'train': #prediction과 loss를 구했으니 학습시킨다\n",
    "                    optimizer.zero_grad() # 초기화시키고 # optimizer : SGD객체\n",
    "                    loss.backward() #역전파시키고\n",
    "                    optimizer.step() #옵티마이저를 업데이트시킨다\n",
    "            \n",
    "            running_loss += loss.item() # 한바퀴돌때마다 value값을 얻어서 누적시킴\n",
    "            running_correct += get_accuracy(image, target, model) # image,target,model가 있는 \n",
    "                                                                # accuracy을 correct에 누적시킴\n",
    "            if tv == 'train':\n",
    "                if index % 10 == 0:\n",
    "                    print(f\"{index}/{len(dataloaders['train'])} - Running loss: {loss.item()}\")\n",
    "        \n",
    "        \n",
    "        losses[tv] = running_loss / len(dataloaders[tv]) # 평균구하기\n",
    "        accuracies[tv] = running_correct / len(dataloaders[tv]) # 평균구하기\n",
    "        \n",
    "        \n",
    "    return losses, accuracies"
   ]
  },
  {
   "cell_type": "code",
   "execution_count": 37,
   "id": "30c1504a",
   "metadata": {},
   "outputs": [],
   "source": [
    "# 학습까지 시켜놓은 모델을 파일로 저장\n",
    "# 다시 학습할 필요없다\n",
    "\n",
    "# 모델의 상태값, 모델의 이름, 모델 경로\n",
    "# 학습을 계속 하면서 중간중간 저장\n",
    "def save_best_model(model_state, model_name, save_dir='./trained_model'):\n",
    "    os.makedirs(save_dir, exist_ok=True) # 경로가 존재하면 덮어쓰겠다. \n",
    "    torch.save(model_state, os.path.join(save_dir, model_name)) # 경로를 합쳐준 후 모델 정보를 저장"
   ]
  },
  {
   "cell_type": "markdown",
   "id": "ec846ddc",
   "metadata": {},
   "source": [
    "# 14. 모델 학습 수행하기"
   ]
  },
  {
   "cell_type": "code",
   "execution_count": 38,
   "id": "2f1d7105",
   "metadata": {},
   "outputs": [],
   "source": [
    "# device = torch.device('cuda')\n",
    "device = torch.device('cpu')\n",
    "\n",
    "# 디렉토리 잡아주기\n",
    "train_data_dir = 'Covid19-dataset/train/'\n",
    "val_data_dir = 'Covid19-dataset/test/'\n",
    "\n",
    "\n",
    "dataloaders = build_dataloader(train_data_dir, val_data_dir)\n",
    "model = build_vgg19_based_model(device_name='cpu')\n",
    "loss_func = nn.CrossEntropyLoss(reduction='mean')\n",
    "optimizer = torch.optim.SGD(model.parameters(), lr=1E-3, momentum=0.9)"
   ]
  },
  {
   "cell_type": "code",
   "execution_count": 39,
   "id": "6917ffff",
   "metadata": {},
   "outputs": [
    {
     "name": "stdout",
     "output_type": "stream",
     "text": [
      "0/62 - Running loss: 1.0977025032043457\n",
      "10/62 - Running loss: 1.0816028118133545\n",
      "20/62 - Running loss: 1.0574554204940796\n",
      "30/62 - Running loss: 1.0594686269760132\n",
      "40/62 - Running loss: 1.0651183128356934\n",
      "50/62 - Running loss: 1.0571696758270264\n",
      "60/62 - Running loss: 1.0622475147247314\n",
      "1/10-Train Loss:1.0683894109341405, Val Loss:0.9760610018715714\n",
      "1/10-Train Acc:0.4596774193548387, Val Acc:0.696969696969697\n",
      "0/62 - Running loss: 0.8615391850471497\n",
      "10/62 - Running loss: 0.6576798558235168\n",
      "20/62 - Running loss: 1.0514817237854004\n",
      "30/62 - Running loss: 1.2218793630599976\n",
      "40/62 - Running loss: 1.0780773162841797\n",
      "50/62 - Running loss: 1.1424039602279663\n",
      "60/62 - Running loss: 0.7600855231285095\n",
      "2/10-Train Loss:0.8735747010477127, Val Loss:0.8217791138273297\n",
      "2/10-Train Acc:0.7016129032258065, Val Acc:0.6666666666666666\n",
      "0/62 - Running loss: 0.7810686826705933\n",
      "10/62 - Running loss: 0.7758797407150269\n",
      "20/62 - Running loss: 0.6384294033050537\n",
      "30/62 - Running loss: 0.5909921526908875\n",
      "40/62 - Running loss: 0.6984625458717346\n",
      "50/62 - Running loss: 0.7157137989997864\n",
      "60/62 - Running loss: 0.8178054094314575\n",
      "3/10-Train Loss:0.7772793616017988, Val Loss:0.8695383929845059\n",
      "3/10-Train Acc:0.8185483870967742, Val Acc:0.696969696969697\n",
      "0/62 - Running loss: 1.2797619104385376\n",
      "10/62 - Running loss: 0.8014565706253052\n",
      "20/62 - Running loss: 0.9955419301986694\n",
      "30/62 - Running loss: 0.7460073232650757\n",
      "40/62 - Running loss: 0.5699554681777954\n",
      "50/62 - Running loss: 0.9791253209114075\n",
      "60/62 - Running loss: 0.7885737419128418\n",
      "4/10-Train Loss:0.7332517100918677, Val Loss:0.6623152151252284\n",
      "4/10-Train Acc:0.8387096774193549, Val Acc:0.9090909090909091\n",
      "0/62 - Running loss: 0.5765742659568787\n",
      "10/62 - Running loss: 0.5539637804031372\n",
      "20/62 - Running loss: 0.552354097366333\n",
      "30/62 - Running loss: 0.6531247496604919\n",
      "40/62 - Running loss: 0.5558480620384216\n",
      "50/62 - Running loss: 0.8266295790672302\n",
      "60/62 - Running loss: 0.5721349120140076\n",
      "5/10-Train Loss:0.6146422634201665, Val Loss:0.7227084681843267\n",
      "5/10-Train Acc:0.9717741935483871, Val Acc:0.8333333333333334\n",
      "0/62 - Running loss: 0.6320385932922363\n",
      "10/62 - Running loss: 0.5515639185905457\n",
      "20/62 - Running loss: 0.6323487758636475\n",
      "30/62 - Running loss: 0.5531517267227173\n",
      "40/62 - Running loss: 0.5515123009681702\n",
      "50/62 - Running loss: 0.5531737804412842\n",
      "60/62 - Running loss: 0.7822189927101135\n",
      "6/10-Train Loss:0.6069511415496949, Val Loss:0.6605934717438438\n",
      "6/10-Train Acc:0.9596774193548387, Val Acc:0.8787878787878788\n",
      "0/62 - Running loss: 0.5514694452285767\n",
      "10/62 - Running loss: 0.5550384521484375\n",
      "20/62 - Running loss: 0.7982142567634583\n",
      "30/62 - Running loss: 0.8371592164039612\n",
      "40/62 - Running loss: 0.5873128771781921\n",
      "50/62 - Running loss: 0.5667885541915894\n",
      "60/62 - Running loss: 0.5520118474960327\n",
      "7/10-Train Loss:0.6785918676084087, Val Loss:0.6231450483654485\n",
      "7/10-Train Acc:0.8991935483870968, Val Acc:0.9393939393939394\n",
      "0/62 - Running loss: 0.5522337555885315\n",
      "10/62 - Running loss: 0.5514576435089111\n",
      "20/62 - Running loss: 0.5547531843185425\n",
      "30/62 - Running loss: 0.7070714831352234\n",
      "40/62 - Running loss: 0.5757714509963989\n",
      "50/62 - Running loss: 0.552018940448761\n",
      "60/62 - Running loss: 0.5562525987625122\n",
      "8/10-Train Loss:0.6213517150571269, Val Loss:0.7162603392745509\n",
      "8/10-Train Acc:0.9637096774193549, Val Acc:0.8333333333333334\n",
      "0/62 - Running loss: 0.6694484353065491\n",
      "10/62 - Running loss: 0.5530107617378235\n",
      "20/62 - Running loss: 0.5529533624649048\n",
      "30/62 - Running loss: 0.5529197454452515\n",
      "40/62 - Running loss: 0.6063989400863647\n",
      "50/62 - Running loss: 0.551498532295227\n",
      "60/62 - Running loss: 0.5516859889030457\n",
      "9/10-Train Loss:0.6007370227767576, Val Loss:0.6245824857191606\n",
      "9/10-Train Acc:0.9596774193548387, Val Acc:0.9545454545454546\n",
      "0/62 - Running loss: 0.5534573793411255\n",
      "10/62 - Running loss: 0.5516046285629272\n",
      "20/62 - Running loss: 0.5514636039733887\n",
      "30/62 - Running loss: 0.5576003193855286\n",
      "40/62 - Running loss: 0.5514696836471558\n",
      "50/62 - Running loss: 0.5514450073242188\n",
      "60/62 - Running loss: 0.5984321236610413\n",
      "10/10-Train Loss:0.5773680113977001, Val Loss:0.5658151706059774\n",
      "10/10-Train Acc:0.9798387096774194, Val Acc:0.9848484848484849\n",
      "Bset Accuracy: 0.9848484848484849\n"
     ]
    }
   ],
   "source": [
    "num_epochs = 10\n",
    "\n",
    "best_acc = 0.0 #변수설정\n",
    "train_loss, train_accuracy = [], [] # 둘 다 리스트 \n",
    "val_loss, val_accuracy = [], [] # 둘 다 리스트\n",
    "\n",
    "\n",
    "for epoch in range(num_epochs):\n",
    "    losses, accuracies = train_one_epoch(dataloaders, model, optimizer, loss_func, device)\n",
    "    train_loss.append(losses['train'])\n",
    "    val_loss.append(losses['val'])\n",
    "    train_accuracy.append(accuracies['train'])\n",
    "    val_accuracy.append(accuracies['val'])\n",
    "    \n",
    "    print(f\"{epoch+1}/{num_epochs}-Train Loss:{losses['train']}, Val Loss:{losses['val']}\")\n",
    "    print(f\"{epoch+1}/{num_epochs}-Train Acc:{accuracies['train']}, Val Acc:{accuracies['val']}\")\n",
    "    \n",
    "    \n",
    "    \n",
    "    # deepcopy: 배열의 내부 객체까지 복사를 해서 사용\n",
    "    # copy: 배열의 내부 객체까지 깊은 복사를 해주지 않음\n",
    "    if (epoch > 3) and (accuracies['val'] > best_acc):\n",
    "        best_acc = accuracies['val'] # 뽑아와서 저장하고\n",
    "        best_model = copy.deepcopy(model.state_dict()) \n",
    "        save_best_model(best_model, f'model_{epoch+1:02d}.pth')\n",
    "\n",
    "print(f'Bset Accuracy: {best_acc}')"
   ]
  },
  {
   "cell_type": "code",
   "execution_count": 40,
   "id": "d516e051",
   "metadata": {},
   "outputs": [
    {
     "data": {
      "image/png": "[encoded data removed]",
      "text/plain": [
       "<Figure size 600x500 with 2 Axes>"
      ]
     },
     "metadata": {},
     "output_type": "display_data"
    }
   ],
   "source": [
    "plt.figure(figsize=(6, 5))\n",
    "plt.subplot(211)\n",
    "plt.plot(train_loss, label=\"train\")\n",
    "plt.plot(val_loss,  label=\"val\")\n",
    "plt.xlabel(\"epoch\")\n",
    "plt.ylabel(\"loss\")\n",
    "plt.grid(\"on\")\n",
    "plt.legend()\n",
    "plt.subplot(212)\n",
    "plt.plot(train_accuracy, label=\"train\")\n",
    "plt.plot(val_accuracy, label=\"val\")\n",
    "plt.xlabel(\"epoch\")\n",
    "plt.ylabel(\"accuracy\")\n",
    "plt.grid(\"on\")\n",
    "plt.legend()\n",
    "plt.tight_layout()"
   ]
  },
  {
   "cell_type": "markdown",
   "id": "61d61ccd",
   "metadata": {},
   "source": [
    "# 15. 테스트 이미지를 통한 학습모델 분류 성능 검증하기"
   ]
  },
  {
   "cell_type": "code",
   "execution_count": 41,
   "id": "06784557",
   "metadata": {},
   "outputs": [],
   "source": [
    "data_data = './Covid19-dataset/test/'\n",
    "class_list = ['Covid', 'Normal', 'Viral Pneumonia']\n",
    "\n",
    "test_normals_list = list_image_file(data_dir, 'Normal')\n",
    "test_covids_list = list_image_file(data_dir, 'Covid')\n",
    "test_pneumonias_list = list_image_file(data_dir, 'Viral Pneumonia')"
   ]
  },
  {
   "cell_type": "code",
   "execution_count": 42,
   "id": "304921f9",
   "metadata": {},
   "outputs": [],
   "source": [
    "def preprocess_image(image):\n",
    "    transformer = transforms.Compose([\n",
    "        transforms.ToTensor(),\n",
    "        transforms.Resize((224, 224)),\n",
    "        transforms.Normalize(mean=[0.5, 0.5, 0.5], std=[0.5, 0.5, 0.5])\n",
    "    ])\n",
    "\n",
    "    tensor_image = transformer(image) # (C, H, W) (color, height, width)\n",
    "    tensor_image = tensor_image.unsqueeze(0) # (B, C, H, W) # 0의 자리에 하나 차원이 늘어남.\n",
    "                                                            # B는 batch_size\n",
    "    return tensor_image"
   ]
  },
  {
   "cell_type": "code",
   "execution_count": 43,
   "id": "5ba8c00c",
   "metadata": {},
   "outputs": [],
   "source": [
    "def model_predict(image, model):\n",
    "    tensor_image = preprocess_image(image)\n",
    "    prediction = model(tensor_image)\n",
    "    \n",
    "    _ , pred_label = torch.max(prediction.detach(), dim=1) \n",
    "    # 이미지와 라벨이 들어가있는데 그 라벨을 떼서 최대값을 뽑아서 붙인다.\n",
    "    # 이미지는 필요없고 라벨값만 얻기 # 데이터가져와서 붙이기\n",
    "    print('pred_label1 : ', pred_label)\n",
    "    pred_label = pred_label.squeeze(0) # 0번에 있는 차원을 제거시키겠다(차원을 축소시키겠다)\n",
    "    print('pred_label2 : ', pred_label)\n",
    "\n",
    "    return pred_label.item() # 라벨값만 떼서 리턴"
   ]
  },
  {
   "cell_type": "code",
   "execution_count": 44,
   "id": "d043cce1",
   "metadata": {},
   "outputs": [
    {
     "data": {
      "text/plain": [
       "VGG(\n",
       "  (features): Sequential(\n",
       "    (0): Conv2d(3, 64, kernel_size=(3, 3), stride=(1, 1), padding=(1, 1))\n",
       "    (1): ReLU(inplace=True)\n",
       "    (2): Conv2d(64, 64, kernel_size=(3, 3), stride=(1, 1), padding=(1, 1))\n",
       "    (3): ReLU(inplace=True)\n",
       "    (4): MaxPool2d(kernel_size=2, stride=2, padding=0, dilation=1, ceil_mode=False)\n",
       "    (5): Conv2d(64, 128, kernel_size=(3, 3), stride=(1, 1), padding=(1, 1))\n",
       "    (6): ReLU(inplace=True)\n",
       "    (7): Conv2d(128, 128, kernel_size=(3, 3), stride=(1, 1), padding=(1, 1))\n",
       "    (8): ReLU(inplace=True)\n",
       "    (9): MaxPool2d(kernel_size=2, stride=2, padding=0, dilation=1, ceil_mode=False)\n",
       "    (10): Conv2d(128, 256, kernel_size=(3, 3), stride=(1, 1), padding=(1, 1))\n",
       "    (11): ReLU(inplace=True)\n",
       "    (12): Conv2d(256, 256, kernel_size=(3, 3), stride=(1, 1), padding=(1, 1))\n",
       "    (13): ReLU(inplace=True)\n",
       "    (14): Conv2d(256, 256, kernel_size=(3, 3), stride=(1, 1), padding=(1, 1))\n",
       "    (15): ReLU(inplace=True)\n",
       "    (16): Conv2d(256, 256, kernel_size=(3, 3), stride=(1, 1), padding=(1, 1))\n",
       "    (17): ReLU(inplace=True)\n",
       "    (18): MaxPool2d(kernel_size=2, stride=2, padding=0, dilation=1, ceil_mode=False)\n",
       "    (19): Conv2d(256, 512, kernel_size=(3, 3), stride=(1, 1), padding=(1, 1))\n",
       "    (20): ReLU(inplace=True)\n",
       "    (21): Conv2d(512, 512, kernel_size=(3, 3), stride=(1, 1), padding=(1, 1))\n",
       "    (22): ReLU(inplace=True)\n",
       "    (23): Conv2d(512, 512, kernel_size=(3, 3), stride=(1, 1), padding=(1, 1))\n",
       "    (24): ReLU(inplace=True)\n",
       "    (25): Conv2d(512, 512, kernel_size=(3, 3), stride=(1, 1), padding=(1, 1))\n",
       "    (26): ReLU(inplace=True)\n",
       "    (27): MaxPool2d(kernel_size=2, stride=2, padding=0, dilation=1, ceil_mode=False)\n",
       "    (28): Conv2d(512, 512, kernel_size=(3, 3), stride=(1, 1), padding=(1, 1))\n",
       "    (29): ReLU(inplace=True)\n",
       "    (30): Conv2d(512, 512, kernel_size=(3, 3), stride=(1, 1), padding=(1, 1))\n",
       "    (31): ReLU(inplace=True)\n",
       "    (32): Conv2d(512, 512, kernel_size=(3, 3), stride=(1, 1), padding=(1, 1))\n",
       "    (33): ReLU(inplace=True)\n",
       "    (34): Conv2d(512, 512, kernel_size=(3, 3), stride=(1, 1), padding=(1, 1))\n",
       "    (35): ReLU(inplace=True)\n",
       "    (36): MaxPool2d(kernel_size=2, stride=2, padding=0, dilation=1, ceil_mode=False)\n",
       "  )\n",
       "  (avgpool): AdaptiveAvgPool2d(output_size=(1, 1))\n",
       "  (classifier): Sequential(\n",
       "    (0): Flatten(start_dim=1, end_dim=-1)\n",
       "    (1): Linear(in_features=512, out_features=256, bias=True)\n",
       "    (2): ReLU()\n",
       "    (3): Linear(in_features=256, out_features=3, bias=True)\n",
       "    (4): Softmax(dim=1)\n",
       "  )\n",
       ")"
      ]
     },
     "execution_count": 44,
     "metadata": {},
     "output_type": "execute_result"
    }
   ],
   "source": [
    "ckpt = torch.load('./trained_model/model_09.pth')\n",
    "\n",
    "model = build_vgg19_based_model()\n",
    "model.load_state_dict(ckpt) # 모델을 부르는 함수\n",
    "model.eval() # 검증용"
   ]
  },
  {
   "cell_type": "code",
   "execution_count": 45,
   "id": "d61c8a13",
   "metadata": {},
   "outputs": [
    {
     "data": {
      "application/vnd.jupyter.widget-view+json": {
       "model_id": "0901e279b18f484d8dbb093f5007c17f",
       "version_major": 2,
       "version_minor": 0
      },
      "text/plain": [
       "interactive(children=(IntSlider(value=0, description='index', max=69), Output()), _dom_classes=('widget-intera…"
      ]
     },
     "metadata": {},
     "output_type": "display_data"
    }
   ],
   "source": [
    "min_num_files = min(len(test_normals_list), len(test_covids_list), len(test_pneumonias_list)) #최소값으로 저장\n",
    "\n",
    "@interact(index=(0, min_num_files-1)) # 최대값을 min_num_files -1 로 잡는다\n",
    "\n",
    "def show_result(index=0):\n",
    "    normal_image = get_RGB_image(data_dir, test_normals_list[index])\n",
    "    covid_image = get_RGB_image(data_dir, test_covids_list[index])\n",
    "    pneumonia_image = get_RGB_image(data_dir, test_pneumonias_list[index])\n",
    "    \n",
    "    prediction_1 = model_predict(normal_image, model) # normal값을 model에 넣어서 예측을 함\n",
    "    prediction_2 = model_predict(covid_image, model) # covid값을 model에 넣어서 예측을 함\n",
    "    prediction_3 = model_predict(pneumonia_image, model) # pneumonia값을 model에 넣어서 예측을 함\n",
    "    \n",
    "    \n",
    "    plt.figure(figsize=(12,8))\n",
    "    \n",
    "    plt.subplot(131)\n",
    "    plt.title(f'Pred:{class_list[prediction_1]} | GT:Normal')\n",
    "    plt.imshow(normal_image)\n",
    "    \n",
    "    plt.subplot(132)\n",
    "    plt.title(f'Pred:{class_list[prediction_2]} | GT:Covid')\n",
    "    plt.imshow(covid_image)\n",
    "    \n",
    "    plt.subplot(133)\n",
    "    plt.title(f'Pred:{class_list[prediction_3]} | GT:Pneumonia')\n",
    "    plt.imshow(pneumonia_image)\n",
    "    \n",
    "    plt.tight_layout()"
   ]
  },
  {
   "cell_type": "markdown",
   "id": "2e8458cf",
   "metadata": {},
   "source": [
    "# 16. 정리\n",
    "* CNN에 대한 학습\n",
    "* 이미지 데이터셋 구축\n",
    "* Torchvision transforms 라이브러리를 활용한 텐서형 데이터 변환\n",
    "* VGG19모델을 불러와 Head 부분을 수정\n",
    "* Cross entropy Loss Funtion, SGDM 적용\n",
    "* 인간 추론원리와 닮은 딥러닝 결과 출력"
   ]
  },
  {
   "cell_type": "code",
   "execution_count": null,
   "id": "cbb3c6c7",
   "metadata": {},
   "outputs": [],
   "source": []
  }
 ],
 "metadata": {
  "kernelspec": {
   "display_name": "Python 3 (ipykernel)",
   "language": "python",
   "name": "python3"
  },
  "language_info": {
   "codemirror_mode": {
    "name": "ipython",
    "version": 3
   },
   "file_extension": ".py",
   "mimetype": "text/x-python",
   "name": "python",
   "nbconvert_exporter": "python",
   "pygments_lexer": "ipython3",
   "version": "3.7.7"
  }
 },
 "nbformat": 4,
 "nbformat_minor": 5
}
